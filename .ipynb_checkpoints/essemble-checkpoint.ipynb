{
 "cells": [
  {
   "cell_type": "code",
   "execution_count": 1,
   "metadata": {},
   "outputs": [
    {
     "name": "stderr",
     "output_type": "stream",
     "text": [
      "/Users/robin/anaconda3/lib/python3.7/site-packages/IPython/core/interactiveshell.py:3057: DtypeWarning: Columns (9) have mixed types. Specify dtype option on import or set low_memory=False.\n",
      "  interactivity=interactivity, compiler=compiler, result=result)\n"
     ]
    }
   ],
   "source": [
    "import pandas as pd\n",
    "import numpy as np\n",
    "import matplotlib.pyplot as plt\n",
    "from sklearn.metrics import r2_score\n",
    "%matplotlib inline\n",
    "from matplotlib.pyplot import figure\n",
    "from sklearn.model_selection import train_test_split\n",
    "from sklearn import metrics\n",
    "from sklearn.metrics import r2_score\n",
    "from datetime import datetime\n",
    "data = pd.read_csv(\"training.csv\")\n",
    "\n"
   ]
  },
  {
   "cell_type": "code",
   "execution_count": 3,
   "metadata": {},
   "outputs": [],
   "source": [
    "def date_time(data):\n",
    "    data['Year'] = data['Occur Date'].dt.year\n",
    "    data['Month'] = data['Occur Date'].dt.month\n",
    "    data['Day'] = data['Occur Date'].dt.day\n",
    "    data['Hour'] = data['Occur Time'].dt.hour\n",
    "    data['Day Of Week'] = data['Occur Time'].dt.dayofweek\n",
    "    return data"
   ]
  },
  {
   "cell_type": "code",
   "execution_count": 5,
   "metadata": {},
   "outputs": [],
   "source": [
    "date =  pd.DataFrame(data[['Occur Date']].groupby('Occur Date').size().sort_values(ascending=False).rename('date_counts').reset_index())\n",
    "data['Occur Date'] = pd.to_datetime(data['Occur Date'],format=\"%Y/%m/%d\")\n",
    "data['Occur Time'] = pd.to_datetime(data['Occur Time'],format=\"%H:%M\")\n",
    "\n",
    "new_data = date_time(data)"
   ]
  },
  {
   "cell_type": "code",
   "execution_count": 6,
   "metadata": {},
   "outputs": [
    {
     "data": {
      "text/html": [
       "<div>\n",
       "<style scoped>\n",
       "    .dataframe tbody tr th:only-of-type {\n",
       "        vertical-align: middle;\n",
       "    }\n",
       "\n",
       "    .dataframe tbody tr th {\n",
       "        vertical-align: top;\n",
       "    }\n",
       "\n",
       "    .dataframe thead th {\n",
       "        text-align: right;\n",
       "    }\n",
       "</style>\n",
       "<table border=\"1\" class=\"dataframe\">\n",
       "  <thead>\n",
       "    <tr style=\"text-align: right;\">\n",
       "      <th></th>\n",
       "      <th>Occur Date</th>\n",
       "      <th>Neighborhood</th>\n",
       "      <th>UCR Literal</th>\n",
       "      <th>Day</th>\n",
       "      <th>Occur Time</th>\n",
       "      <th>Latitude</th>\n",
       "      <th>Longitude</th>\n",
       "      <th>UCR #</th>\n",
       "      <th>IBR Code</th>\n",
       "      <th>zipcode</th>\n",
       "      <th>Year</th>\n",
       "      <th>Month</th>\n",
       "      <th>Hour</th>\n",
       "      <th>Day Of Week</th>\n",
       "    </tr>\n",
       "  </thead>\n",
       "  <tbody>\n",
       "    <tr>\n",
       "      <th>0</th>\n",
       "      <td>2009-01-01</td>\n",
       "      <td>Greenbriar</td>\n",
       "      <td>LARCENY-NON VEHICLE</td>\n",
       "      <td>1</td>\n",
       "      <td>1900-01-01 11:45:00</td>\n",
       "      <td>33.68845</td>\n",
       "      <td>-84.49328</td>\n",
       "      <td>630</td>\n",
       "      <td>2303</td>\n",
       "      <td>30344</td>\n",
       "      <td>2009</td>\n",
       "      <td>1</td>\n",
       "      <td>11</td>\n",
       "      <td>0</td>\n",
       "    </tr>\n",
       "    <tr>\n",
       "      <th>1</th>\n",
       "      <td>2009-01-01</td>\n",
       "      <td>Downtown</td>\n",
       "      <td>LARCENY-NON VEHICLE</td>\n",
       "      <td>1</td>\n",
       "      <td>1900-01-01 12:45:00</td>\n",
       "      <td>33.75320</td>\n",
       "      <td>-84.39201</td>\n",
       "      <td>630</td>\n",
       "      <td>2303</td>\n",
       "      <td>30303</td>\n",
       "      <td>2009</td>\n",
       "      <td>1</td>\n",
       "      <td>12</td>\n",
       "      <td>0</td>\n",
       "    </tr>\n",
       "    <tr>\n",
       "      <th>2</th>\n",
       "      <td>2009-01-01</td>\n",
       "      <td>Adamsville</td>\n",
       "      <td>LARCENY-NON VEHICLE</td>\n",
       "      <td>1</td>\n",
       "      <td>1900-01-01 13:45:00</td>\n",
       "      <td>33.75735</td>\n",
       "      <td>-84.50282</td>\n",
       "      <td>630</td>\n",
       "      <td>2303</td>\n",
       "      <td>30311</td>\n",
       "      <td>2009</td>\n",
       "      <td>1</td>\n",
       "      <td>13</td>\n",
       "      <td>0</td>\n",
       "    </tr>\n",
       "    <tr>\n",
       "      <th>3</th>\n",
       "      <td>2009-01-01</td>\n",
       "      <td>Lenox</td>\n",
       "      <td>LARCENY-NON VEHICLE</td>\n",
       "      <td>1</td>\n",
       "      <td>1900-01-01 14:45:00</td>\n",
       "      <td>33.84676</td>\n",
       "      <td>-84.36212</td>\n",
       "      <td>630</td>\n",
       "      <td>2303</td>\n",
       "      <td>30326</td>\n",
       "      <td>2009</td>\n",
       "      <td>1</td>\n",
       "      <td>14</td>\n",
       "      <td>0</td>\n",
       "    </tr>\n",
       "    <tr>\n",
       "      <th>4</th>\n",
       "      <td>2009-01-01</td>\n",
       "      <td>Greenbriar</td>\n",
       "      <td>LARCENY-NON VEHICLE</td>\n",
       "      <td>1</td>\n",
       "      <td>1900-01-01 15:45:00</td>\n",
       "      <td>33.68677</td>\n",
       "      <td>-84.49773</td>\n",
       "      <td>630</td>\n",
       "      <td>2303</td>\n",
       "      <td>30344</td>\n",
       "      <td>2009</td>\n",
       "      <td>1</td>\n",
       "      <td>15</td>\n",
       "      <td>0</td>\n",
       "    </tr>\n",
       "  </tbody>\n",
       "</table>\n",
       "</div>"
      ],
      "text/plain": [
       "  Occur Date Neighborhood          UCR Literal  Day          Occur Time  \\\n",
       "0 2009-01-01   Greenbriar  LARCENY-NON VEHICLE    1 1900-01-01 11:45:00   \n",
       "1 2009-01-01     Downtown  LARCENY-NON VEHICLE    1 1900-01-01 12:45:00   \n",
       "2 2009-01-01   Adamsville  LARCENY-NON VEHICLE    1 1900-01-01 13:45:00   \n",
       "3 2009-01-01        Lenox  LARCENY-NON VEHICLE    1 1900-01-01 14:45:00   \n",
       "4 2009-01-01   Greenbriar  LARCENY-NON VEHICLE    1 1900-01-01 15:45:00   \n",
       "\n",
       "   Latitude  Longitude  UCR # IBR Code zipcode  Year  Month  Hour  Day Of Week  \n",
       "0  33.68845  -84.49328    630     2303   30344  2009      1    11            0  \n",
       "1  33.75320  -84.39201    630     2303   30303  2009      1    12            0  \n",
       "2  33.75735  -84.50282    630     2303   30311  2009      1    13            0  \n",
       "3  33.84676  -84.36212    630     2303   30326  2009      1    14            0  \n",
       "4  33.68677  -84.49773    630     2303   30344  2009      1    15            0  "
      ]
     },
     "execution_count": 6,
     "metadata": {},
     "output_type": "execute_result"
    }
   ],
   "source": [
    "new_data.head()"
   ]
  },
  {
   "cell_type": "code",
   "execution_count": 7,
   "metadata": {},
   "outputs": [],
   "source": [
    "downtown = new_data[(new_data['Neighborhood'] == 'Downtown') & (new_data['UCR Literal'] == 'LARCENY-FROM VEHICLE') & (new_data['Year'] >= 2009)]"
   ]
  },
  {
   "cell_type": "code",
   "execution_count": 8,
   "metadata": {},
   "outputs": [],
   "source": [
    "ys = []\n",
    "for i in downtown['Year'].unique().tolist():\n",
    "    downtown_year = downtown[downtown['Year'] == i]\n",
    "    downtown_month = pd.DataFrame((downtown_year[['Month']]).groupby('Month').size().rename('counts').reset_index())\n",
    "    x = downtown_month['Month']\n",
    "    y = downtown_month['counts']\n",
    "    ys.append(y)\n",
    "#     plt.plot(x,y)"
   ]
  },
  {
   "cell_type": "code",
   "execution_count": 9,
   "metadata": {},
   "outputs": [],
   "source": [
    "temp = []\n",
    "ys = np.array(ys)\n",
    "ys = ys.reshape(1,120)[0].tolist()"
   ]
  },
  {
   "cell_type": "code",
   "execution_count": null,
   "metadata": {},
   "outputs": [],
   "source": [
    "from sklearn.linear_model import Ridge,BayesianRidge\n",
    "from sklearn.kernel_ridge import KernelRidge\n",
    "from sklearn import linear_model\n",
    "# KernelRidge 4\n",
    "from sklearn.isotonic import IsotonicRegression\n",
    "from sklearn.preprocessing import PolynomialFeatures\n",
    "from sklearn.pipeline import make_pipeline\n",
    "from sklearn.linear_model import Ridge,BayesianRidge,LogisticRegression,LinearRegression, TheilSenRegressor,RANSACRegressor\n",
    "from mlens.ensemble import SuperLearner\n",
    "ensemble = SuperLearner(scorer=accuracy_score, random_state=seed, verbose=2)\n",
    "ensemble.add([ a, b])\n",
    "#a is one regression\n",
    "#b is another regression\n",
    "ensemble.fit(X[:75], y[:75])\n",
    "y_plot = ensemble.predict(X[75:])\n",
    "\n"
   ]
  }
 ],
 "metadata": {
  "kernelspec": {
   "display_name": "Python 3",
   "language": "python",
   "name": "python3"
  },
  "language_info": {
   "codemirror_mode": {
    "name": "ipython",
    "version": 3
   },
   "file_extension": ".py",
   "mimetype": "text/x-python",
   "name": "python",
   "nbconvert_exporter": "python",
   "pygments_lexer": "ipython3",
   "version": "3.7.3"
  }
 },
 "nbformat": 4,
 "nbformat_minor": 4
}
